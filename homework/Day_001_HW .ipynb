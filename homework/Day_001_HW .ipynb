{
 "cells": [
  {
   "cell_type": "code",
   "execution_count": null,
   "metadata": {},
   "outputs": [],
   "source": []
  },
  {
   "cell_type": "code",
   "execution_count": 46,
   "metadata": {},
   "outputs": [
    {
     "name": "stdout",
     "output_type": "stream",
     "text": [
      "作業1\n",
      "為什麼選擇這個問題?\n",
      "預測研究生的入學機率\n",
      "資料從何而來?\n",
      "數據為加州大學洛杉磯分校研究生考試成績。包括:GRE成績、托福成績、大學評分、研究經歷\n",
      "資料的型態是什麼?\n",
      "結構化資料\n",
      "可以回答甚麼問題?\n",
      "讓學生了解入學的機率多大\n",
      "---------------------------------------------------------------------------------------------\n"
     ]
    }
   ],
   "source": [
    "print(\"作業1\")\n",
    "print(\"為什麼選擇這個問題?\")\n",
    "print(\"預測研究生的入學機率\")\n",
    "print(\"資料從何而來?\")\n",
    "print(\"數據為加州大學洛杉磯分校研究生考試成績。包括:GRE成績、托福成績、大學評分、研究經歷\")\n",
    "print(\"資料的型態是什麼?\")\n",
    "print(\"結構化資料\")\n",
    "print(\"可以回答甚麼問題?\")\n",
    "print(\"讓學生了解入學的機率多大\")\n"
   ]
  },
  {
   "cell_type": "code",
   "execution_count": 47,
   "metadata": {},
   "outputs": [
    {
     "name": "stdout",
     "output_type": "stream",
     "text": [
      "作業2\n",
      "核心問題?\n",
      "調查搭車頻率較常的路段，在較繁忙的路段設置較多載客點。調查長距離或短距離哪一種頻率較多人搭。\n",
      "資料從何而來?\n",
      "利用APP紀錄每次載客的距離，以及上車地點。\n",
      "蒐集而來的資料型態為何?\n",
      "結構化資料，例:距離長短、相對座標位置\n",
      "如何評估?\n",
      "調查在哪一個路段上的載客大多會搭往哪些地點。\n",
      "-----------------------------------------------------------------------------------------------\n"
     ]
    }
   ],
   "source": [
    "print(\"作業2\")\n",
    "print(\"核心問題?\")\n",
    "print(\"調查搭車頻率較常的路段，在較繁忙的路段設置較多載客點。調查長距離或短距離哪一種頻率較多人搭。\")\n",
    "print(\"資料從何而來?\")\n",
    "print(\"利用APP紀錄每次載客的距離，以及上車地點。\")\n",
    "print(\"蒐集而來的資料型態為何?\")\n",
    "print(\"結構化資料，例:距離長短、相對座標位置\")\n",
    "print(\"如何評估?\")\n",
    "print(\"調查在哪一個路段上的載客大多會搭往哪些地點。\")\n"
   ]
  },
  {
   "cell_type": "code",
   "execution_count": 48,
   "metadata": {},
   "outputs": [
    {
     "name": "stdout",
     "output_type": "stream",
     "text": [
      "作業3\n"
     ]
    }
   ],
   "source": [
    "print(\"作業3\")\n",
    "import numpy as np\n",
    "import matplotlib.pyplot as plt\n",
    "\n",
    "def mean_squared_error(y, yp):\n",
    "    \"\"\"\n",
    "    請完成這個 Function 後往下執行\n",
    "    \"\"\"\n",
    "    mse=MSE=sum((y-yp)**2)/len(y)\n",
    "    return mse"
   ]
  },
  {
   "cell_type": "code",
   "execution_count": 49,
   "metadata": {},
   "outputs": [
    {
     "data": {
      "image/png": "[encoded data removed]",
      "text/plain": [
       "<matplotlib.figure.Figure at 0x2bb6d2ac080>"
      ]
     },
     "metadata": {},
     "output_type": "display_data"
    }
   ],
   "source": [
    "w = 3\n",
    "b = 0.5\n",
    "\n",
    "x_lin = np.linspace(0, 100, 101)\n",
    "\n",
    "y = (x_lin + np.random.randn(101) * 5) * w + b\n",
    "\n",
    "plt.plot(x_lin, y, 'b.', label = 'data points')\n",
    "plt.title(\"Assume we have data points\")\n",
    "plt.legend(loc = 2)\n",
    "plt.show()"
   ]
  },
  {
   "cell_type": "code",
   "execution_count": 50,
   "metadata": {},
   "outputs": [
    {
     "data": {
      "image/png": "[encoded data removed]",
      "text/plain": [
       "<matplotlib.figure.Figure at 0x2bb6c972be0>"
      ]
     },
     "metadata": {},
     "output_type": "display_data"
    }
   ],
   "source": [
    "y_hat = x_lin * w + b\n",
    "plt.plot(x_lin, y, 'b.', label = 'data')\n",
    "plt.plot(x_lin, y_hat, 'r-', label = 'prediction')\n",
    "plt.title(\"Assume we have data points (And the prediction)\")\n",
    "plt.legend(loc = 2)\n",
    "plt.show()"
   ]
  },
  {
   "cell_type": "code",
   "execution_count": 51,
   "metadata": {},
   "outputs": [],
   "source": [
    "def mean_absolute_error(y, yp):\n",
    "    \"\"\"\n",
    "    計算 MAE\n",
    "    Args:\n",
    "        - y: 實際值\n",
    "        - yp: 預測值\n",
    "    Return:\n",
    "        - mae: MAE\n",
    "    \"\"\"\n",
    "    mae = MAE = sum(abs(y - yp)) / len(y)\n",
    "    return mae\n"
   ]
  },
  {
   "cell_type": "code",
   "execution_count": null,
   "metadata": {},
   "outputs": [],
   "source": []
  },
  {
   "cell_type": "code",
   "execution_count": 52,
   "metadata": {},
   "outputs": [
    {
     "name": "stdout",
     "output_type": "stream",
     "text": [
      "The Mean squared error is 251.378\n",
      "The Mean absolute error is 12.840\n"
     ]
    }
   ],
   "source": [
    "# 執行 Function, 確認有沒有正常執行\n",
    "MSE = mean_squared_error(y, y_hat)\n",
    "MAE = mean_absolute_error(y, y_hat)\n",
    "print(\"The Mean squared error is %.3f\" % (MSE))\n",
    "print(\"The Mean absolute error is %.3f\" % (MAE))"
   ]
  }
 ],
 "metadata": {
  "kernelspec": {
   "display_name": "Python 3",
   "language": "python",
   "name": "python3"
  },
  "language_info": {
   "codemirror_mode": {
    "name": "ipython",
    "version": 3
   },
   "file_extension": ".py",
   "mimetype": "text/x-python",
   "name": "python",
   "nbconvert_exporter": "python",
   "pygments_lexer": "ipython3",
   "version": "3.6.4"
  }
 },
 "nbformat": 4,
 "nbformat_minor": 2
}
