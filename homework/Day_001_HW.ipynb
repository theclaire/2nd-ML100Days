{
 "cells": [
  {
   "cell_type": "code",
   "execution_count": null,
   "metadata": {},
   "outputs": [],
   "source": [
    "print(\"作業1\")\n",
    "print(\"為什麼選擇這個問題?\")\n",
    "print(\"預測研究生的入學機率\")\n",
    "print(\"資料從何而來?\")\n",
    "print(\"數據為加州大學洛杉磯分校研究生考試成績。包括:GRE成績、托福成績、大學評分、研究經歷\")\n",
    "print(\"資料的型態是什麼?\")\n",
    "print(\"結構化資料\")\n",
    "print(\"可以回答甚麼問題?\")\n",
    "print(\"讓學生了解入學的機率多大\")\n",
    "\n",
    "print(\"---------------------------------------------------------------------------------------------\")\n",
    "\n",
    "print(\"作業2\")\n",
    "print(\"核心問題?\")\n",
    "print(\"調查搭車頻率較常的路段，在較繁忙的路段設置較多載客點。調查長距離或短距離哪一種頻率較多人搭。\")\n",
    "print(\"資料從何而來?\")\n",
    "print(\"利用APP紀錄每次載客的距離，以及上車地點。\")\n",
    "print(\"蒐集而來的資料型態為何?\")\n",
    "print(\"結構化資料，例:距離長短、相對座標位置\")\n",
    "print(\"如何評估?\")\n",
    "print(\"調查在哪一個路段上的載客大多會搭往哪些地點。\")\n",
    "\n",
    "print(\"-----------------------------------------------------------------------------------------------\")\n",
    "print(\"作業3\")\n",
    "import numpy as np\n",
    "import matplotlib.pyplot as plt\n",
    "\n",
    "\n"
   ]
  }
 ],
 "metadata": {
  "kernelspec": {
   "display_name": "Python 3",
   "language": "python",
   "name": "python3"
  },
  "language_info": {
   "codemirror_mode": {
    "name": "ipython",
    "version": 3
   },
   "file_extension": ".py",
   "mimetype": "text/x-python",
   "name": "python",
   "nbconvert_exporter": "python",
   "pygments_lexer": "ipython3",
   "version": "3.6.4"
  }
 },
 "nbformat": 4,
 "nbformat_minor": 2
}
